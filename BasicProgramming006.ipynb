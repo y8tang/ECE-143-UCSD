{
 "cells": [
  {
   "cell_type": "markdown",
   "metadata": {
    "deletable": false,
    "editable": false,
    "nbgrader": {
     "checksum": "785116279a2f055c443b11cd44f0aa50",
     "grade": false,
     "grade_id": "cell-457f7ae50bd00ea7",
     "locked": true,
     "schema_version": 1,
     "solution": false
    }
   },
   "source": [
    "## Problem: Sliding window\n",
    "\n",
    "Implement a sliding window for an arbitrary input list. The function should take\n",
    "the window width and the window increment as inputs and should produce a\n",
    "sequence of overlapping lists from the input list. For example, given\n",
    "`x=range(15)`, the following is the output given a window width of `5` and\n",
    "window increment of `2`.\n",
    "\n",
    "    [[0, 1, 2, 3, 4],\n",
    "     [2, 3, 4, 5, 6],\n",
    "     [4, 5, 6, 7, 8],\n",
    "     [6, 7, 8, 9, 10],\n",
    "     [8, 9, 10, 11, 12],\n",
    "     [10, 11, 12, 13, 14]]\n",
    "\n",
    "In the event that the input parameters do not yield a complete set of even\n",
    "sublists, just truncate the ragged tail. For example,\n",
    "\n",
    "    >>> slide_window(range(18),5,2)\n",
    "    [[0, 1, 2, 3, 4],\n",
    "     [2, 3, 4, 5, 6],\n",
    "     [4, 5, 6, 7, 8],\n",
    "     [6, 7, 8, 9, 10],\n",
    "     [8, 9, 10, 11, 12],\n",
    "     [10, 11, 12, 13, 14],\n",
    "     [12, 13, 14, 15, 16]]"
   ]
  },
  {
   "cell_type": "code",
   "execution_count": 9,
   "metadata": {
    "deletable": false,
    "nbgrader": {
     "checksum": "e45248e252e02489ca35af45376afea8",
     "grade": false,
     "grade_id": "cell-feb98530bbfed6a6",
     "locked": false,
     "schema_version": 1,
     "solution": true
    }
   },
   "outputs": [],
   "source": [
    "def slide_window(x,width,increment):\n",
    "    '''\n",
    "    take the window width and the window increment as inputs and should produce a sequence of overlapping lists from the input list\n",
    "    Args:\n",
    "         x, width, increment\n",
    "    type:\n",
    "        range or list,int,int\n",
    "    output:\n",
    "        produce a sliding window for given parameters\n",
    "    type: \n",
    "        list\n",
    "    '''\n",
    "    assert isinstance(x,list) or isinstance(x,range),'x is not a list'\n",
    "    assert isinstance(width,int),'width is not a integer'\n",
    "    assert isinstance(increment,int),'increment is not a integer'\n",
    "    assert width > increment,'width less than increment'\n",
    "    assert increment > 0 ,'increment should be positive'\n",
    "    assert width >= 1,'invalid width'\n",
    "    assert len(x) >= width,'width larger than length of input list'\n",
    "    w = []\n",
    "    for i in x:\n",
    "        w.append(i)\n",
    "    slideWindow = []\n",
    "    intial_num = 0\n",
    "    current_num = width\n",
    "    while (intial_num + width) <= len(w):\n",
    "        tempList = []\n",
    "        for i in range(intial_num,current_num): \n",
    "            tempList.append(i)\n",
    "            # print(tempList)\n",
    "        slideWindow.append(tempList)\n",
    "        intial_num = intial_num + increment\n",
    "        current_num = current_num + increment\n",
    "    \n",
    "\n",
    "    return slideWindow\n",
    "\n",
    "\n",
    "\n"
   ]
  },
  {
   "cell_type": "code",
   "execution_count": null,
   "metadata": {
    "deletable": false,
    "editable": false,
    "nbgrader": {
     "checksum": "b8fa42032ab326343bfc907d3344bd8c",
     "grade": true,
     "grade_id": "cell-ca9bd3475cce33f2",
     "locked": true,
     "points": 20,
     "schema_version": 1,
     "solution": false
    }
   },
   "outputs": [],
   "source": []
  },
  {
   "cell_type": "code",
   "execution_count": 8,
   "metadata": {
    "deletable": false,
    "editable": false,
    "nbgrader": {
     "checksum": "02ddf89c379d073e7554eb707e66320e",
     "grade": true,
     "grade_id": "cell-21ef5921c0f7a2d6",
     "locked": true,
     "points": 2,
     "schema_version": 1,
     "solution": false
    }
   },
   "outputs": [],
   "source": [
    "assert slide_window.__doc__ is not None"
   ]
  },
  {
   "cell_type": "code",
   "execution_count": null,
   "metadata": {},
   "outputs": [],
   "source": []
  }
 ],
 "metadata": {
  "kernelspec": {
   "display_name": "Python 3",
   "language": "python",
   "name": "python3"
  },
  "language_info": {
   "codemirror_mode": {
    "name": "ipython",
    "version": 3
   },
   "file_extension": ".py",
   "mimetype": "text/x-python",
   "name": "python",
   "nbconvert_exporter": "python",
   "pygments_lexer": "ipython3",
   "version": "3.6.7"
  }
 },
 "nbformat": 4,
 "nbformat_minor": 2
}
