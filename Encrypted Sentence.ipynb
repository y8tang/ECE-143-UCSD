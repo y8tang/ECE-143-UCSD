{
 "cells": [
  {
   "cell_type": "markdown",
   "metadata": {
    "deletable": false,
    "editable": false,
    "nbgrader": {
     "checksum": "d9c9b67b7bd55297f8fa9e21a850f440",
     "grade": false,
     "grade_id": "cell-e611eeb34d08a140",
     "locked": true,
     "schema_version": 1,
     "solution": false
    }
   },
   "source": [
    "We will implement a very simple encryption scheme that closely resembles the one-time-pad. You have probably seen this method used in movies like [Unknown](http://www.imdb.com/title/tt1401152/?ref_=nm_flmg_act_43). The idea is that you and your counterparty share a book whose words you will use as the raw material for a  codebook. In this case, you need [Metamorphosis, by Franz Kafka](https://storage.googleapis.com/class-notes-181217.appspot.com/pg5200.txt).\n",
    "\n",
    "Your job is to create a codebook of 2-tuples that map to specific words in the given text based on the line and position the words appears in the text. The text is very long so there will be duplicated words. Strip out all of the punctuation and make everything lowercase.\n",
    "\n",
    "For example, the word **let** appears on line `1682` in the text as the fourth word (reading from left-to-right). Similarly,\n",
    "the word **us** appears in the text on line `1760` as the fifth word.\n",
    "\n",
    "Thus, if the message you want to send is the following:\n",
    "\n",
    "    let us not say we met late at the night about the secret\n",
    "    \n",
    "Then, one possible valid sequence for that message is the following:\n",
    "    \n",
    "    [(1682,4),(1760,5),(1650,2),(304,7),(1190,4),(2327,2),(731,4),(988,4),(1091,6),(958,7),(564,10),(1923,9),(849,2)]\n",
    "\n",
    "Your counterparty receives the above sequence of tuples, and, because she has the same text, she is able to look up the line and word numbers of each of the tuples to retrieve the encoded message. Notice that the word **the** appears twice in the above message but is encoded differently each time. This is because re-using codewords (i.e., 2-tuples) destroys the encryption strength. In case of repeated words, you should have a randomized scheme to ensure that no message contains the same 2-tuple, even if the same word appears multiple times in the message. If there is only one occurrence of a word in the text and the message uses that word repeatedly so that each occurrence of the word cannot have a unique 2-tuple, then the message should be rejected (i.e., assert against this).\n",
    "\n",
    "Your assignment is to create an encryption function and the corresponding decryption function to implement this scheme. Note that your downloaded text should have 2362 lines and 25186 words in it.\n",
    "\n"
   ]
  },
  {
   "cell_type": "code",
   "execution_count": 64,
   "metadata": {
    "deletable": false,
    "nbgrader": {
     "checksum": "d457124ad756d24ce57b7965ae68a569",
     "grade": false,
     "grade_id": "cell-87352038aba84830",
     "locked": false,
     "schema_version": 1,
     "solution": true
    }
   },
   "outputs": [],
   "source": [
    "from collections import defaultdict    \n",
    "import random\n",
    "def encrypt_message(message,fname):\n",
    "    '''\n",
    "    Given `message`, which is a lowercase string without any punctuation, and `fname` which is the\n",
    "    name of a text file source for the codebook, generate a sequence of 2-tuples that\n",
    "    represents the `(line number, word number)` of each word in the message. The output is a list\n",
    "    of 2-tuples for the entire message. Repeated words in the message should not have the same 2-tuple. \n",
    "    \n",
    "    :param message: message to encrypt\n",
    "    :type message: str\n",
    "    :param fname: filename for source text\n",
    "    :type fname: str\n",
    "    :returns: list of 2-tuples\n",
    "    '''\n",
    "    import string, re\n",
    "\n",
    "    # no punctuation marks\n",
    "    assert len(re.findall('[%s]'%string.punctuation,message)) == 0\n",
    "    # no uppercase characters\n",
    "    assert len(re.findall('[%s]'%string.ascii_uppercase,message))==0\n",
    "    assert isinstance(message,str)\n",
    "    assert isinstance(fname,str)\n",
    "    re.findall('[%s]' % string.ascii_uppercase, message)\n",
    "    \n",
    "    res = []\n",
    "    def parse(fname):\n",
    "        with open(fname) as file:\n",
    "            for w in file:\n",
    "                yield re.sub('[%s]' % string.punctuation,'',w).strip().lower()\n",
    "    data = list(parse(fname))\n",
    "    dct = defaultdict(list)\n",
    "    \n",
    "    for i in range(len(data)):\n",
    "        line = data[i].split()\n",
    "        for j in range(len(line)):\n",
    "            dct[line[j]].append((i,j))\n",
    "    \n",
    "    for k,v in dct.items():\n",
    "        random.shuffle(v)\n",
    "    words = message.split()\n",
    "    \n",
    "    for word in words:\n",
    "        try:\n",
    "            res.append(dct[word].pop())\n",
    "        except:\n",
    "            raise ValueError('Message Rejected')\n",
    "    return res"
   ]
  },
  {
   "cell_type": "code",
   "execution_count": 65,
   "metadata": {},
   "outputs": [
    {
     "name": "stdout",
     "output_type": "stream",
     "text": [
      "[(1682, 9), (1727, 3), (559, 13), (1172, 10), (529, 10), (1191, 4), (1252, 9), (796, 3), (1895, 11), (1047, 3), (1117, 8), (2092, 8), (551, 4)]\n"
     ]
    }
   ],
   "source": [
    "x = encrypt_message('let us not say we met late at the night about the secret','Metamorphosis.txt')\n",
    "print(x)"
   ]
  },
  {
   "cell_type": "code",
   "execution_count": null,
   "metadata": {
    "deletable": false,
    "editable": false,
    "nbgrader": {
     "checksum": "dcbf6096ef081b1709135efc0934e7af",
     "grade": true,
     "grade_id": "cell-54f24cb9ceaa8abe",
     "locked": true,
     "points": 20,
     "schema_version": 1,
     "solution": false
    }
   },
   "outputs": [],
   "source": []
  },
  {
   "cell_type": "code",
   "execution_count": 66,
   "metadata": {
    "deletable": false,
    "nbgrader": {
     "checksum": "02b99b28398a87c3c3d093aac236193a",
     "grade": false,
     "grade_id": "cell-b3dbf01d5ce12282",
     "locked": false,
     "schema_version": 1,
     "solution": true
    }
   },
   "outputs": [],
   "source": [
    "from collections import defaultdict\n",
    "def decrypt_message(inlist,fname):\n",
    "    '''\n",
    "    Given `inlist`, which is a list of 2-tuples`fname` which is the\n",
    "    name of a text file source for the codebook, return the encrypted message. \n",
    "    \n",
    "    :param message: inlist to decrypt\n",
    "    :type message: list\n",
    "    :param fname: filename for source text\n",
    "    :type fname: str\n",
    "    :returns: string decrypted message\n",
    "    '''      \n",
    "    import string, re\n",
    "    assert isinstance(inlist, list)\n",
    "    assert len(inlist) > 0\n",
    "    assert sum([not isinstance(i, tuple) for i in inlist]) == 0\n",
    "\n",
    "    res = ''\n",
    "    def parse(fname):\n",
    "        with open(fname) as file:\n",
    "            for w in file:\n",
    "                yield re.sub('[%s]' % string.punctuation,'',w).strip().lower()\n",
    "    data = list(parse(fname))\n",
    "    dct = defaultdict(list)\n",
    "    \n",
    "    for i in range(len(data)):\n",
    "        line = data[i].split()\n",
    "        for j in range(len(line)):\n",
    "            dct[i].append(line[j])\n",
    "    \n",
    "    for i in inlist:\n",
    "        res += str(dct[i[0]][i[1]]) + ''\n",
    "    return res.strip() #remove the leading and trailling "
   ]
  },
  {
   "cell_type": "code",
   "execution_count": 67,
   "metadata": {},
   "outputs": [
    {
     "name": "stdout",
     "output_type": "stream",
     "text": [
      "letusnotsaywemetlateatthenightaboutthesecret\n"
     ]
    }
   ],
   "source": [
    "inlist = [(342, 6), (1760, 5), (222, 9), (1172, 10), (1750, 2), (2327, 2), (951, 5), (1499, 3), (676, 7), (731, 6), (1949, 5), (443, 11), (901, 0)]\n",
    "x = decrypt_message(inlist,'Metamorphosis.txt')\n",
    "print (x)"
   ]
  },
  {
   "cell_type": "code",
   "execution_count": null,
   "metadata": {
    "deletable": false,
    "editable": false,
    "nbgrader": {
     "checksum": "40d4b66b7219c9957ce765fc6f6c8a94",
     "grade": true,
     "grade_id": "cell-4b4430a1c0890459",
     "locked": true,
     "points": 20,
     "schema_version": 1,
     "solution": false
    }
   },
   "outputs": [],
   "source": []
  },
  {
   "cell_type": "code",
   "execution_count": null,
   "metadata": {},
   "outputs": [],
   "source": []
  }
 ],
 "metadata": {
  "kernelspec": {
   "display_name": "Python 3",
   "language": "python",
   "name": "python3"
  },
  "language_info": {
   "codemirror_mode": {
    "name": "ipython",
    "version": 3
   },
   "file_extension": ".py",
   "mimetype": "text/x-python",
   "name": "python",
   "nbconvert_exporter": "python",
   "pygments_lexer": "ipython3",
   "version": "3.6.7"
  }
 },
 "nbformat": 4,
 "nbformat_minor": 2
}
