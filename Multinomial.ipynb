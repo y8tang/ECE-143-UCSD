{
 "cells": [
  {
   "cell_type": "code",
   "execution_count": null,
   "metadata": {},
   "outputs": [],
   "source": []
  },
  {
   "cell_type": "markdown",
   "metadata": {
    "deletable": false,
    "editable": false,
    "nbgrader": {
     "checksum": "2d65a2c4ccf6906536c43a8e2bcc4749",
     "grade": false,
     "grade_id": "cell-60f29c89ac3aacc0",
     "locked": true,
     "schema_version": 1,
     "solution": false
    }
   },
   "source": [
    "Write a function to return samples from Multinomial distribution using pure Python (i.e., no third-party modules like Numpy or Scipy). You may import random \n",
    "Here is a sample output:\n",
    "    \n",
    "    >>> multinomial_sample(10,[1/3,1/3,1/3],k=10)\n",
    "    [[3, 3, 4],\n",
    "     [4, 4, 2],\n",
    "     [3, 4, 3],\n",
    "     [5, 2, 3],\n",
    "     [3, 3, 4],\n",
    "     [3, 4, 3],\n",
    "     [6, 2, 2],\n",
    "     [2, 6, 2],\n",
    "     [5, 4, 1],\n",
    "     [4, 4, 2]]]\n",
    "     \n",
    "    >>> multinomial_sample(5,[1/3,1/3,1/3],k=10)\n",
    "    [[1, 1, 3],\n",
    "     [4, 1, 0],\n",
    "     [2, 2, 1],\n",
    "     [2, 1, 2],\n",
    "     [1, 3, 1],\n",
    "     [2, 2, 1],\n",
    "     [1, 2, 2],\n",
    "     [1, 4, 0],\n",
    "     [1, 2, 2],\n",
    "     [2, 2, 1]]\n",
    "        "
   ]
  },
  {
   "cell_type": "code",
   "execution_count": 1,
   "metadata": {
    "deletable": false,
    "nbgrader": {
     "checksum": "808d291b67d3b2c9b78023addcf645f3",
     "grade": false,
     "grade_id": "cell-34b64cab6ba1d7f3",
     "locked": false,
     "schema_version": 1,
     "solution": true
    }
   },
   "outputs": [],
   "source": [
    "def multinomial_sample(samples=10,pmf=None,k=1):\n",
    "    import random\n",
    "    assert isinstance(samples,int),'the samples should be a integer'\n",
    "    assert isinstance(pmf,list),'the input pmf should be a list'\n",
    "    assert isinstance(k,int),'the input k should be a integer'\n",
    "    assert sum(pmf) == 1,'the sum of pmf should be equal to one'\n",
    "    assert samples > 0,'the samples should be greater than zero'\n",
    "    assert k > 0,'the k should be greater than zero'\n",
    "    for i in pmf:\n",
    "        assert i >= 0,'the probability should be greater or equal to zero'\n",
    "        \n",
    "    list1 = []\n",
    "    for i in range(k):\n",
    "        list2 = []   \n",
    "        for i in range(samples):\n",
    "            list2.append(random.choices(range(len(pmf)),weights = pmf)[0])\n",
    "        num = [0]*len(pmf)\n",
    "        for i in list2:\n",
    "            num[i] += 1\n",
    "        list1.append(num)\n",
    "    return list1\n",
    "\n",
    "    \n",
    "    \n",
    "    \n",
    "    \n",
    "    \n",
    "    "
   ]
  },
  {
   "cell_type": "code",
   "execution_count": 4,
   "metadata": {},
   "outputs": [
    {
     "data": {
      "text/plain": [
       "[[2, 1, 2],\n",
       " [3, 1, 1],\n",
       " [1, 1, 3],\n",
       " [1, 1, 3],\n",
       " [3, 2, 0],\n",
       " [2, 1, 2],\n",
       " [0, 3, 2],\n",
       " [2, 1, 2],\n",
       " [3, 1, 1],\n",
       " [3, 1, 1]]"
      ]
     },
     "execution_count": 4,
     "metadata": {},
     "output_type": "execute_result"
    }
   ],
   "source": [
    "multinomial_sample(5,[1/3,1/3,1/3],k=10)"
   ]
  },
  {
   "cell_type": "code",
   "execution_count": 5,
   "metadata": {},
   "outputs": [
    {
     "data": {
      "text/plain": [
       "[[3, 4, 3],\n",
       " [3, 3, 4],\n",
       " [5, 4, 1],\n",
       " [5, 3, 2],\n",
       " [2, 6, 2],\n",
       " [3, 4, 3],\n",
       " [1, 5, 4],\n",
       " [2, 5, 3],\n",
       " [5, 1, 4],\n",
       " [4, 4, 2]]"
      ]
     },
     "execution_count": 5,
     "metadata": {},
     "output_type": "execute_result"
    }
   ],
   "source": [
    "multinomial_sample(10,[1/3,1/3,1/3],k=10)"
   ]
  },
  {
   "cell_type": "code",
   "execution_count": null,
   "metadata": {
    "deletable": false,
    "editable": false,
    "nbgrader": {
     "checksum": "b3525ab4a8a4855b68f405fcd396c66b",
     "grade": true,
     "grade_id": "cell-8ecf8b430aede0be",
     "locked": true,
     "points": 20,
     "schema_version": 1,
     "solution": false
    }
   },
   "outputs": [],
   "source": []
  },
  {
   "cell_type": "code",
   "execution_count": null,
   "metadata": {
    "deletable": false,
    "editable": false,
    "nbgrader": {
     "checksum": "22a4e0efa50b1303a0b125f0fd3f63f9",
     "grade": true,
     "grade_id": "cell-1a789518bf6d11fd",
     "locked": true,
     "points": 20,
     "schema_version": 1,
     "solution": false
    }
   },
   "outputs": [],
   "source": []
  },
  {
   "cell_type": "code",
   "execution_count": null,
   "metadata": {
    "deletable": false,
    "editable": false,
    "nbgrader": {
     "checksum": "6dd0149a5dd3b22d9383d90b9e52089c",
     "grade": true,
     "grade_id": "cell-310fe37116265412",
     "locked": true,
     "points": 20,
     "schema_version": 1,
     "solution": false
    }
   },
   "outputs": [],
   "source": []
  },
  {
   "cell_type": "code",
   "execution_count": null,
   "metadata": {
    "deletable": false,
    "editable": false,
    "nbgrader": {
     "checksum": "de34ca1bd79f588998ed16292e4282eb",
     "grade": true,
     "grade_id": "cell-fd6d4daaa8797ca3",
     "locked": true,
     "points": 20,
     "schema_version": 1,
     "solution": false
    }
   },
   "outputs": [],
   "source": []
  },
  {
   "cell_type": "code",
   "execution_count": null,
   "metadata": {
    "deletable": false,
    "editable": false,
    "nbgrader": {
     "checksum": "174f3bf1b4a1fe90d02afd878e221a54",
     "grade": true,
     "grade_id": "cell-ef4ebed730649449",
     "locked": true,
     "points": 20,
     "schema_version": 1,
     "solution": false
    }
   },
   "outputs": [],
   "source": []
  },
  {
   "cell_type": "code",
   "execution_count": null,
   "metadata": {
    "deletable": false,
    "editable": false,
    "nbgrader": {
     "checksum": "f5ab89be473dde4d076a91c998d38360",
     "grade": true,
     "grade_id": "cell-c2757902f2dbe874",
     "locked": true,
     "points": 20,
     "schema_version": 1,
     "solution": false
    }
   },
   "outputs": [],
   "source": []
  },
  {
   "cell_type": "code",
   "execution_count": null,
   "metadata": {},
   "outputs": [],
   "source": []
  }
 ],
 "metadata": {
  "kernelspec": {
   "display_name": "Python 3",
   "language": "python",
   "name": "python3"
  },
  "language_info": {
   "codemirror_mode": {
    "name": "ipython",
    "version": 3
   },
   "file_extension": ".py",
   "mimetype": "text/x-python",
   "name": "python",
   "nbconvert_exporter": "python",
   "pygments_lexer": "ipython3",
   "version": "3.6.7"
  }
 },
 "nbformat": 4,
 "nbformat_minor": 2
}
