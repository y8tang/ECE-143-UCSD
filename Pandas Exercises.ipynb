{
 "cells": [
  {
   "cell_type": "markdown",
   "metadata": {
    "deletable": false,
    "editable": false,
    "nbgrader": {
     "checksum": "9df9b2d741fd489931226e50e68e3f0f",
     "grade": false,
     "grade_id": "cell-e24536a7e7e0160e",
     "locked": true,
     "schema_version": 1,
     "solution": false
    }
   },
   "source": [
    "## Using Internet Movie Database\n",
    "\n",
    "Using the Internet Movie Database file `titles.csv.gz`, using `pandas` find the how many movies were\n",
    "made every year from `1900` to `2016`. The data files are available at the following links:\n",
    "\n",
    "[titles](https://storage.googleapis.com/class-notes-181217.appspot.com/titles.csv.gz)\n",
    "[cast](https://storage.googleapis.com/class-notes-181217.appspot.com/cast.csv.gz)"
   ]
  },
  {
   "cell_type": "code",
   "execution_count": 24,
   "metadata": {
    "deletable": false,
    "nbgrader": {
     "checksum": "5765379389ece093f74739ebdf89b1dd",
     "grade": false,
     "grade_id": "cell-aa79929fcd65ee37",
     "locked": false,
     "schema_version": 1,
     "solution": true
    }
   },
   "outputs": [],
   "source": [
    " # replace None with your answer and remove everything below this line\n",
    "import pandas as pd\n",
    "count = 0\n",
    "titles = pd.read_table('titles.csv.gz',compression = 'gzip',delimiter = ',') # gzip instead of gz\n",
    "column_year = titles['year'] \n",
    "for i in range(len(column_year)):\n",
    "    if ( 1900 <= column_year[i] ) and ( column_year[i] <= 2016):\n",
    "        count +=1\n",
    "answer = count"
   ]
  },
  {
   "cell_type": "code",
   "execution_count": 25,
   "metadata": {},
   "outputs": [
    {
     "name": "stdout",
     "output_type": "stream",
     "text": [
      "209649\n"
     ]
    }
   ],
   "source": [
    "print(answer)"
   ]
  },
  {
   "cell_type": "code",
   "execution_count": null,
   "metadata": {
    "deletable": false,
    "editable": false,
    "nbgrader": {
     "checksum": "9a89f6f8bdaa4c5ddd177f9190c3f3ea",
     "grade": true,
     "grade_id": "cell-f05958e4a1f25ac4",
     "locked": true,
     "points": 20,
     "schema_version": 1,
     "solution": false
    }
   },
   "outputs": [],
   "source": []
  },
  {
   "cell_type": "markdown",
   "metadata": {
    "deletable": false,
    "editable": false,
    "nbgrader": {
     "checksum": "b0581da9a6ffea5a918692f5c16c3a40",
     "grade": false,
     "grade_id": "cell-36a78a69ed645818",
     "locked": true,
     "schema_version": 1,
     "solution": false
    }
   },
   "source": [
    "Using the cast IMDB file `cast.csv.gz`, determine how many movies the actor *John Wayne* was in (under that name)."
   ]
  },
  {
   "cell_type": "code",
   "execution_count": 27,
   "metadata": {
    "deletable": false,
    "nbgrader": {
     "checksum": "acc5ae879fe54e377d93fe1ecd772ab3",
     "grade": false,
     "grade_id": "cell-ed559f579a5dc671",
     "locked": false,
     "schema_version": 1,
     "solution": true
    }
   },
   "outputs": [],
   "source": [
    "import pandas as pd\n",
    "count = 0\n",
    "cast = pd.read_table('cast.csv.gz',compression = 'gzip', delimiter = ',')\n",
    "numOfCast = cast['name'].value_counts()\n",
    "        \n",
    "answer = numOfCast['John Wayne']\n",
    "\n"
   ]
  },
  {
   "cell_type": "code",
   "execution_count": 28,
   "metadata": {},
   "outputs": [
    {
     "name": "stdout",
     "output_type": "stream",
     "text": [
      "179\n"
     ]
    }
   ],
   "source": [
    "print(answer)"
   ]
  },
  {
   "cell_type": "code",
   "execution_count": null,
   "metadata": {
    "deletable": false,
    "editable": false,
    "nbgrader": {
     "checksum": "3a9950d1e266030a7f1dbd9675fa6309",
     "grade": true,
     "grade_id": "cell-b64eef8f2391f011",
     "locked": true,
     "points": 20,
     "schema_version": 1,
     "solution": false
    }
   },
   "outputs": [],
   "source": []
  },
  {
   "cell_type": "markdown",
   "metadata": {
    "deletable": false,
    "editable": false,
    "nbgrader": {
     "checksum": "b0385e059df092c4396199097601bedf",
     "grade": false,
     "grade_id": "cell-5f2d41dc36071bc4",
     "locked": true,
     "schema_version": 1,
     "solution": false
    }
   },
   "source": [
    "In how many movies did John Wayne play a character named *John* (not Johnny, Jonny, etc.)? This includes *Captain John* and others like this."
   ]
  },
  {
   "cell_type": "code",
   "execution_count": 4,
   "metadata": {
    "deletable": false,
    "nbgrader": {
     "checksum": "beedb77f3bce2a1ff31453bdd1ce1e6d",
     "grade": false,
     "grade_id": "cell-7547e9d3bda9dd75",
     "locked": false,
     "schema_version": 1,
     "solution": true
    }
   },
   "outputs": [],
   "source": [
    "import pandas as pd\n",
    "cast = pd.read_table('cast.csv.gz',compression='gzip', delimiter = ',')\n",
    "name = cast['name']\n",
    "character = cast['character']\n",
    "\n",
    "numOfName = name.value_counts()\n",
    "numOfChar = character.value_counts()\n",
    "\n",
    "John_Wayne = cast[cast.name == 'John Wayne']\n",
    "\n",
    "\n",
    "answer = len(John_Wayne[John_Wayne.character == 'John'])\n",
    "\n"
   ]
  },
  {
   "cell_type": "code",
   "execution_count": 5,
   "metadata": {},
   "outputs": [
    {
     "name": "stdout",
     "output_type": "stream",
     "text": [
      "1\n"
     ]
    }
   ],
   "source": [
    "print(answer)"
   ]
  },
  {
   "cell_type": "code",
   "execution_count": null,
   "metadata": {
    "deletable": false,
    "editable": false,
    "nbgrader": {
     "checksum": "0234e2dd7a672df463d83bbeed8e283b",
     "grade": true,
     "grade_id": "cell-1ea9f0b4e2bfba03",
     "locked": true,
     "points": 20,
     "schema_version": 1,
     "solution": false
    }
   },
   "outputs": [],
   "source": []
  }
 ],
 "metadata": {
  "kernelspec": {
   "display_name": "Python 3",
   "language": "python",
   "name": "python3"
  },
  "language_info": {
   "codemirror_mode": {
    "name": "ipython",
    "version": 3
   },
   "file_extension": ".py",
   "mimetype": "text/x-python",
   "name": "python",
   "nbconvert_exporter": "python",
   "pygments_lexer": "ipython3",
   "version": "3.6.7"
  }
 },
 "nbformat": 4,
 "nbformat_minor": 2
}
