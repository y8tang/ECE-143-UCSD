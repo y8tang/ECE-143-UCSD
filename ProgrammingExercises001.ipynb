{
 "cells": [
  {
   "cell_type": "markdown",
   "metadata": {
    "deletable": false,
    "editable": false,
    "nbgrader": {
     "checksum": "af343e820caaec432f76a9399bff4a01",
     "grade": false,
     "grade_id": "cell-11ad7eacaaed85ea",
     "locked": true,
     "schema_version": 1,
     "solution": false
    }
   },
   "source": [
    "1. Given the following list from last time,\n",
    "\n",
    "   `data=[5,4,6,1,9,0,3,9,2,7,10,8,4,7,1,2,7,6,5,2,8,2,0,1,1,1,2,10,6,2] `\n",
    "\n",
    "remove all the duplicated elements from this list. Note that the order is\n",
    "preserved. The order proceeds from smallest list index to greatest (i.e., from left-to-right)."
   ]
  },
  {
   "cell_type": "code",
   "execution_count": 1,
   "metadata": {
    "deletable": false,
    "nbgrader": {
     "checksum": "02075a6623ef689c61469879a5d9c1c8",
     "grade": false,
     "grade_id": "cell-d42fdd6b5211bd8b",
     "locked": false,
     "schema_version": 1,
     "solution": true
    }
   },
   "outputs": [
    {
     "name": "stdout",
     "output_type": "stream",
     "text": [
      "[5, 4, 6, 1, 9, 0, 3, 9, 2, 7, 10, 8, 4, 7, 1, 2, 7, 6, 5, 2, 8, 2, 0, 1, 1, 1, 2, 10, 6, 2]\n",
      "[5, 4, 6, 1, 9, 0, 3, 2, 7, 10, 8]\n"
     ]
    }
   ],
   "source": [
    "answer = [5,4,6,1,9,0,3,2,7,10,8] # put your output here and remove everything below this line\n",
    "'''\n",
    "remove the duplicated element in a list\n",
    "'''\n",
    "def removeDuplicated(data):\n",
    "            assert isinstance(data,list)\n",
    "            list1 = []\n",
    "            for element in data:\n",
    "                if element not in list1:\n",
    "                    list1.append(element)\n",
    "            assert isinstance(list1,list)\n",
    "            return list1\n",
    "#test case\n",
    "data  = [5,4,6,1,9,0,3,9,2,7,10,8,4,7,1,2,7,6,5,2,8,2,0,1,1,1,2,10,6,2]\n",
    "print(data)\n",
    "newlist = removeDuplicated(data)\n",
    "print(removeDuplicated(data))\n"
   ]
  },
  {
   "cell_type": "code",
   "execution_count": null,
   "metadata": {
    "deletable": false,
    "editable": false,
    "nbgrader": {
     "checksum": "25216fd9a7bb2ae696c3f1a7fc0a1d8c",
     "grade": true,
     "grade_id": "cell-2f5ea2049867cef2",
     "locked": true,
     "points": 5,
     "schema_version": 1,
     "solution": false
    }
   },
   "outputs": [],
   "source": []
  }
 ],
 "metadata": {
  "kernelspec": {
   "display_name": "Python 3",
   "language": "python",
   "name": "python3"
  },
  "language_info": {
   "codemirror_mode": {
    "name": "ipython",
    "version": 3
   },
   "file_extension": ".py",
   "mimetype": "text/x-python",
   "name": "python",
   "nbconvert_exporter": "python",
   "pygments_lexer": "ipython3",
   "version": "3.6.7"
  }
 },
 "nbformat": 4,
 "nbformat_minor": 2
}
