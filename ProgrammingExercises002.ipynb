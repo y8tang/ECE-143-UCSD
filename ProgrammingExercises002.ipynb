{
 "cells": [
  {
   "cell_type": "markdown",
   "metadata": {
    "deletable": false,
    "editable": false,
    "nbgrader": {
     "checksum": "fbbbc403c3423cd3e918cf133b091377",
     "grade": false,
     "grade_id": "cell-6adca17cac744cec",
     "locked": true,
     "schema_version": 1,
     "solution": false
    }
   },
   "source": [
    "Write a function that computes the sum of all non-negative integers (i.e. >=0) up to\n",
    "and including a specified value, `n`."
   ]
  },
  {
   "cell_type": "code",
   "execution_count": 2,
   "metadata": {
    "deletable": false,
    "nbgrader": {
     "checksum": "d0f9e1750400c0cda6b5e1a9e9e5547d",
     "grade": false,
     "grade_id": "cell-3c256e64777f684c",
     "locked": false,
     "schema_version": 1,
     "solution": true
    }
   },
   "outputs": [
    {
     "name": "stdout",
     "output_type": "stream",
     "text": [
      "15\n"
     ]
    }
   ],
   "source": [
    "def compute_sum_to_n(n):\n",
    "    \"\"\"\n",
    "    Computes sum of all non negative values, upto and including given number\n",
    "    Args:\n",
    "        n:given number to add up to\n",
    "    Returns:\n",
    "        val:sum values\n",
    "    \"\"\"\n",
    "    assert isinstance(n,int)\n",
    "    list1 = []\n",
    "    for i in range(n+1):\n",
    "        list1.append(i)\n",
    "        # test  print(list1)\n",
    "    summation = sum(list1)\n",
    "    assert isinstance(summation,int)\n",
    "    return summation\n",
    "\n",
    "#test case        \n",
    "print (compute_sum_to_n(5))\n",
    "\n"
   ]
  },
  {
   "cell_type": "code",
   "execution_count": null,
   "metadata": {
    "deletable": false,
    "editable": false,
    "nbgrader": {
     "checksum": "d59d3068beaa2221244a23da83aa2362",
     "grade": true,
     "grade_id": "cell-6f4116a0738d7374",
     "locked": true,
     "points": 5,
     "schema_version": 1,
     "solution": false
    }
   },
   "outputs": [],
   "source": []
  },
  {
   "cell_type": "code",
   "execution_count": null,
   "metadata": {},
   "outputs": [],
   "source": []
  },
  {
   "cell_type": "code",
   "execution_count": null,
   "metadata": {},
   "outputs": [],
   "source": []
  }
 ],
 "metadata": {
  "kernelspec": {
   "display_name": "Python 3",
   "language": "python",
   "name": "python3"
  },
  "language_info": {
   "codemirror_mode": {
    "name": "ipython",
    "version": 3
   },
   "file_extension": ".py",
   "mimetype": "text/x-python",
   "name": "python",
   "nbconvert_exporter": "python",
   "pygments_lexer": "ipython3",
   "version": "3.6.7"
  }
 },
 "nbformat": 4,
 "nbformat_minor": 2
}
