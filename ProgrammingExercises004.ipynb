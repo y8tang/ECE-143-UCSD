{
 "cells": [
  {
   "cell_type": "markdown",
   "metadata": {
    "deletable": false,
    "editable": false,
    "nbgrader": {
     "checksum": "cf7389c224c16d9d8a41cf5a9d3f9a4a",
     "grade": false,
     "grade_id": "cell-4f89869f9ff2c560",
     "locked": true,
     "schema_version": 1,
     "solution": false
    }
   },
   "source": [
    "4.Generate all sublists of a list. Note there will be `2**len(x)` subsets of the\n",
    "list x. For example, the list `[0,1,2]` has seven sublists:\n",
    "`[[0],[1],[2],[0,1],[1,2],[0,2],[0,1,2]]`. Note that you don't have to mind the\n",
    "ordering of each sublist.  Also, we don't care about the empty list (`[]`). The\n",
    "input to the function should be a list of unique items to be processed.\n",
    "\n",
    "* Hint: use recursion.\n",
    "* Hint: You probably want to use `list` instead of `set`.\n",
    "\n",
    "Here is the output of `all_sublists(range(4))`:\n",
    "\n",
    "    [[0],\n",
    "     [1],\n",
    "     [2],\n",
    "     [3],\n",
    "     [2, 3],\n",
    "     [1, 2],\n",
    "     [1, 3],\n",
    "     [1, 2, 3],\n",
    "     [0, 1],\n",
    "     [0, 2],\n",
    "     [0, 3],\n",
    "     [0, 2, 3],\n",
    "     [0, 1, 2],\n",
    "     [0, 1, 3],\n",
    "     [0, 1, 2, 3]]\n"
   ]
  },
  {
   "cell_type": "code",
   "execution_count": 1,
   "metadata": {
    "deletable": false,
    "nbgrader": {
     "checksum": "e7fc30bf8005e24d74a84b2f1fd2f5ca",
     "grade": false,
     "grade_id": "cell-fba3272b8916384b",
     "locked": false,
     "schema_version": 1,
     "solution": true
    }
   },
   "outputs": [
    {
     "name": "stdout",
     "output_type": "stream",
     "text": [
      "[[], [3], [2], [2, 3], [1], [1, 3], [1, 2], [1, 2, 3], [0], [0, 3], [0, 2], [0, 2, 3], [0, 1], [0, 1, 3], [0, 1, 2], [0, 1, 2, 3]]\n",
      "<class 'range'>\n"
     ]
    }
   ],
   "source": [
    "def all_sublists(x):\n",
    "    \"\"\"\n",
    "    Generates **ALL** sublists of given list except empty lists.\n",
    "    Args:\n",
    "        x:list of unique items\n",
    "    Returns:\n",
    "        val:list of sublists\n",
    "    \n",
    "    \"\"\"  \n",
    "    assert isinstance(x,list)\n",
    "    if x == []:\n",
    "        return [[]]       \n",
    "    temp = all_sublists(x[1:])\n",
    "    assert isinstance(temp,list)\n",
    "    return temp + [[x[0]] + y for y in temp]\n",
    "\n",
    "# test cases\n",
    "l1 = [0, 1, 2, 3] \n",
    "print(all_sublists(l1))\n",
    "y = range(4)\n",
    "print(type(y))"
   ]
  },
  {
   "cell_type": "code",
   "execution_count": null,
   "metadata": {
    "deletable": false,
    "editable": false,
    "nbgrader": {
     "checksum": "12147cafe44a07d42fa44d33371e5cf6",
     "grade": true,
     "grade_id": "cell-ae24ea60d45bfdbe",
     "locked": true,
     "points": 20,
     "schema_version": 1,
     "solution": false
    }
   },
   "outputs": [],
   "source": []
  }
 ],
 "metadata": {
  "kernelspec": {
   "display_name": "Python 3",
   "language": "python",
   "name": "python3"
  },
  "language_info": {
   "codemirror_mode": {
    "name": "ipython",
    "version": 3
   },
   "file_extension": ".py",
   "mimetype": "text/x-python",
   "name": "python",
   "nbconvert_exporter": "python",
   "pygments_lexer": "ipython3",
   "version": "3.6.7"
  }
 },
 "nbformat": 4,
 "nbformat_minor": 2
}
