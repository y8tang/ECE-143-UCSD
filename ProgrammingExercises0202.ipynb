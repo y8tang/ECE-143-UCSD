{
 "cells": [
  {
   "cell_type": "markdown",
   "metadata": {
    "deletable": false,
    "editable": false,
    "nbgrader": {
     "checksum": "6610650b9e6064cd5c21364e504e1f9b",
     "grade": false,
     "grade_id": "cell-e2d648ec5a0ebe65",
     "locked": true,
     "schema_version": 1,
     "solution": false
    }
   },
   "source": [
    "Download this [corpus of 10,000 common English words](http://localhost:8888/?token=a6840a33f9885242e17dacd3d5ed7114465feb61d54ced90) and do the following:\n",
    "\n",
    "\n",
    "- What is the longest word?\n",
    "- What is the longest word that starts with s\n",
    "- What is the most common starting letter?\n",
    "- What is the most common ending letter?"
   ]
  },
  {
   "cell_type": "code",
   "execution_count": null,
   "metadata": {
    "deletable": false,
    "editable": false,
    "nbgrader": {
     "checksum": "f50f373a4c0a5f1324a1b5f31689dff2",
     "grade": true,
     "grade_id": "cell-9b9db364a733cab0",
     "locked": true,
     "points": 10,
     "schema_version": 1,
     "solution": false
    }
   },
   "outputs": [],
   "source": []
  },
  {
   "cell_type": "code",
   "execution_count": 40,
   "metadata": {
    "deletable": false,
    "nbgrader": {
     "checksum": "052aae16c9e675edffcce2c91984468f",
     "grade": false,
     "grade_id": "cell-e9f6429b2bc8dfbc",
     "locked": false,
     "schema_version": 1,
     "solution": true
    }
   },
   "outputs": [],
   "source": [
    "# you can use this bit of code to download the words from the corpus\n",
    "from urllib.request import urlopen\n",
    "import re\n",
    "from collections import Counter\n",
    "\n",
    "u='https://storage.googleapis.com/class-notes-181217.appspot.com/google-10000-english-no-swears.txt'\n",
    "response = urlopen(u)\n",
    "words = [i.strip().decode('utf8') for i in response.readlines()]\n",
    "\n",
    "def get_longest_word(words):\n",
    "    '''\n",
    "    get the longest word for a given input file\n",
    "    Args:\n",
    "        input words list\n",
    "    type: \n",
    "        str\n",
    "    Return: \n",
    "        list with longest word(s)\n",
    "    type: \n",
    "        list\n",
    "    '''\n",
    "    assert isinstance(words,list),'words is not a list'\n",
    "    for element in words:\n",
    "        assert isinstance(element,str),'the element in the list is not a string'\n",
    "    max_len = len(max(words, key=len))\n",
    "    finalList = [word for word in words if len(word) == max_len]\n",
    "    return finalList[0]\n",
    "\n",
    "\n",
    "\n",
    "\n",
    "\n",
    "def get_longest_words_startswith(words,starts):\n",
    "    '''\n",
    "    get the longest words starts with\n",
    "    Args:\n",
    "        input words list, starts letter\n",
    "    type: \n",
    "        list, string\n",
    "    Return:\n",
    "        the longest word with specific starting letter\n",
    "    type: \n",
    "        string\n",
    "    '''\n",
    "    assert isinstance(words,list),'words is not a list'\n",
    "    assert isinstance(starts,str),'starting letter is not a string'\n",
    "    for element in words:\n",
    "        assert isinstance(element,str),'the element in the list is not a string'\n",
    "    wordsListWithStarts = [word for word in words if word[0] == 's']\n",
    "    for word in wordsListWithStarts:\n",
    "        max_len = len(max(wordsListWithStarts,key=len))\n",
    "    finalList = [word for word in wordsListWithStarts if len(word) == max_len]\n",
    "    return finalList[0]\n",
    "    \n",
    "\n",
    "    \n",
    "def get_most_common_start(words):\n",
    "    '''\n",
    "    get the most common letter start with\n",
    "    Args:\n",
    "        input words list\n",
    "    type:\n",
    "        list\n",
    "    Return:\n",
    "        the most common letter start with\n",
    "    type: \n",
    "        string\n",
    "    '''\n",
    "    assert isinstance(words,list),'words is not a list'\n",
    "    for element in words:\n",
    "        assert isinstance(element,str),'the element in the list is not a string'\n",
    "    firstLetter = [item[0] for item in words]\n",
    "    word_counts = Counter(firstLetter)\n",
    "    mostStartingLetter = word_counts.most_common(1)\n",
    "    return mostStartingLetter[:1][0][0] #return a single character...\n",
    "        \n",
    "\n",
    "\n",
    "\n",
    "def get_most_common_end(words):\n",
    "    '''\n",
    "    get the most common end letter for the given words list\n",
    "    Args:\n",
    "        input words list\n",
    "    type:\n",
    "        list\n",
    "    Return:\n",
    "        the most common end letter\n",
    "    type:\n",
    "        string\n",
    "    '''\n",
    "    assert isinstance(words,list),'wors is not a list'\n",
    "    for element in words:\n",
    "        isinstance(element,str),'the element in the list is not a string'\n",
    "    list1 = []\n",
    "    list2 = []\n",
    "    list3 = []\n",
    "    a = 0\n",
    "    b = 0\n",
    "    for i in range(len(words)):\n",
    "        if words[i][len(words[i])-1] not in list1:\n",
    "            list1.append(words[i][len(words[i])-1])\n",
    "    list2 = sorted(list1)\n",
    "    for j in range(len(list2)):\n",
    "        count=0\n",
    "        for i in range(len(words)):\n",
    "            if words[i][len(words[i])-1]==list2[j]:\n",
    "                count+=1\n",
    "        list3.append(count)\n",
    "    for j in range(len(list3)):\n",
    "        if a <= list3[j]:\n",
    "            a = list3[j]\n",
    "            b = j\n",
    "    return list2[b]\n",
    "\n"
   ]
  },
  {
   "cell_type": "code",
   "execution_count": 41,
   "metadata": {
    "deletable": false,
    "editable": false,
    "nbgrader": {
     "checksum": "ead01eee412047e3890ddf3d6a7c91dd",
     "grade": true,
     "grade_id": "cell-7559f8c989e26885",
     "locked": true,
     "points": 10,
     "schema_version": 1,
     "solution": false
    }
   },
   "outputs": [],
   "source": [
    "### BEGIN  TESTS\n",
    "assert get_longest_words_startswith(words,'s') in  ['sustainability','simultaneously', \n",
    "'specifications', \n",
    "'sustainability', \n",
    "'superintendent' ]\n",
    "### END  TESTS"
   ]
  },
  {
   "cell_type": "code",
   "execution_count": 42,
   "metadata": {
    "deletable": false,
    "editable": false,
    "nbgrader": {
     "checksum": "c53b574063985ae43501e85a691e5b93",
     "grade": true,
     "grade_id": "cell-3cf6876fc57af686",
     "locked": true,
     "points": 10,
     "schema_version": 1,
     "solution": false
    }
   },
   "outputs": [],
   "source": [
    "### BEGIN  TESTS\n",
    "assert get_most_common_start(words)=='c'\n",
    "### END  TESTS"
   ]
  },
  {
   "cell_type": "code",
   "execution_count": 43,
   "metadata": {
    "deletable": false,
    "editable": false,
    "nbgrader": {
     "checksum": "928ed1833420d20d44af0d22302be103",
     "grade": true,
     "grade_id": "cell-f1359f41f9db52bd",
     "locked": true,
     "points": 10,
     "schema_version": 1,
     "solution": false
    }
   },
   "outputs": [],
   "source": [
    "### BEGIN  TESTS\n",
    "assert get_most_common_end(words)=='s'\n",
    "### END  TESTS"
   ]
  },
  {
   "cell_type": "code",
   "execution_count": null,
   "metadata": {},
   "outputs": [],
   "source": []
  },
  {
   "cell_type": "code",
   "execution_count": null,
   "metadata": {},
   "outputs": [],
   "source": []
  },
  {
   "cell_type": "code",
   "execution_count": null,
   "metadata": {},
   "outputs": [],
   "source": []
  }
 ],
 "metadata": {
  "kernelspec": {
   "display_name": "Python 3",
   "language": "python",
   "name": "python3"
  },
  "language_info": {
   "codemirror_mode": {
    "name": "ipython",
    "version": 3
   },
   "file_extension": ".py",
   "mimetype": "text/x-python",
   "name": "python",
   "nbconvert_exporter": "python",
   "pygments_lexer": "ipython3",
   "version": "3.6.7"
  }
 },
 "nbformat": 4,
 "nbformat_minor": 2
}
