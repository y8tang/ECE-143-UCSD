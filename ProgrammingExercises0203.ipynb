{
 "cells": [
  {
   "cell_type": "markdown",
   "metadata": {
    "deletable": false,
    "editable": false,
    "nbgrader": {
     "checksum": "ccfe12f7510b34e5911a3f9c54bf18a6",
     "grade": false,
     "grade_id": "cell-35a6fab17f9fdf9e",
     "locked": true,
     "schema_version": 1,
     "solution": false
    }
   },
   "source": [
    "Using the same [corpus of 10,000 common English words](https://storage.googleapis.com/class-notes-181217.appspot.com/google-10000-english-no-swears.txt) as before,\n",
    "create a new file that consists of each\n",
    "consecutive non-overlapping sequence of five lines merged into one line. Here\n",
    "are the first 10 lines:\n",
    "\n",
    "    the of and to a\n",
    "    in for is on that\n",
    "    by this with i you\n",
    "    it not or be are\n",
    "    from at as your all\n",
    "    have new more an was\n",
    "    we will home can us\n",
    "    about if page my has\n",
    "    search free but our one\n",
    "    other do no information time\n",
    "\n",
    "If the last group has less than five at the end, just write out the last group."
   ]
  },
  {
   "cell_type": "code",
   "execution_count": 2,
   "metadata": {
    "deletable": false,
    "nbgrader": {
     "checksum": "b0bc75f089de3bec258187f6f470ad49",
     "grade": false,
     "grade_id": "cell-776cc31a59bb9565",
     "locked": false,
     "schema_version": 1,
     "solution": true
    }
   },
   "outputs": [],
   "source": [
    "fname = 'output_by_5.txt'\n",
    "\n",
    "def write_chunks_of_five(words,fname):\n",
    "    '''\n",
    "    create a new file that consists of each consecutive non-overlapping sequence of five lines merged into one line\n",
    "    Args:\n",
    "        input words list, fname\n",
    "    type: \n",
    "        list, str\n",
    "    '''\n",
    "    assert isinstance(words,list),'input words list is not a list'\n",
    "    assert isinstance(fname,str),'input fname is not a string'\n",
    "    length = len(words)\n",
    "    for element in words:\n",
    "        assert isinstance(element,str),'the element in the list is not a string'\n",
    "    with open(fname,'a') as inputFile:\n",
    "        for i in range(length):\n",
    "            inputFile.write('%s '% words[i])\n",
    "            if ((i+1) % 5 == 0):\n",
    "                inputFile.write('\\n')\n",
    "\n"
   ]
  },
  {
   "cell_type": "code",
   "execution_count": null,
   "metadata": {
    "deletable": false,
    "editable": false,
    "nbgrader": {
     "checksum": "baab221ece7d68a114f534c9c4a44217",
     "grade": true,
     "grade_id": "cell-eb4fd5c831778280",
     "locked": true,
     "points": 30,
     "schema_version": 1,
     "solution": false
    }
   },
   "outputs": [],
   "source": []
  },
  {
   "cell_type": "code",
   "execution_count": null,
   "metadata": {},
   "outputs": [],
   "source": []
  },
  {
   "cell_type": "code",
   "execution_count": null,
   "metadata": {},
   "outputs": [],
   "source": []
  }
 ],
 "metadata": {
  "kernelspec": {
   "display_name": "Python 3",
   "language": "python",
   "name": "python3"
  },
  "language_info": {
   "codemirror_mode": {
    "name": "ipython",
    "version": 3
   },
   "file_extension": ".py",
   "mimetype": "text/x-python",
   "name": "python",
   "nbconvert_exporter": "python",
   "pygments_lexer": "ipython3",
   "version": "3.6.7"
  }
 },
 "nbformat": 4,
 "nbformat_minor": 2
}
