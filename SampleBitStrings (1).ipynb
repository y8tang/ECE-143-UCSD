{
 "cells": [
  {
   "cell_type": "markdown",
   "metadata": {
    "deletable": false,
    "editable": false,
    "nbgrader": {
     "checksum": "f70b41919759f804451e10e04b52259d",
     "grade": false,
     "grade_id": "cell-5b1580be70ef50dc",
     "locked": true,
     "schema_version": 1,
     "solution": false
    }
   },
   "source": [
    "## Problem: Random samples for a finite  population of bitstrings\n",
    "\n",
    "Given a number of bits, write the `get_sample` function to return a list `n` of random samples from a finite probability mass function defined by a dictionary with keys defined by a specified number of bits. For example, given `3` bits, we have the following dictionary that defines the probability of each of the keys,\n",
    "\n",
    "    ['000', '001', '010', '011', '100', '101', '110', '111']\n",
    "\n",
    "The values of the dictionary correspond of the probability of drawing any one of these. For example, if all of these were equally likely, then here is the corresponding dictionary `p`,\n",
    "\n",
    "    p={'000': 0.125,\n",
    "     '001': 0.125,\n",
    "     '010': 0.125,\n",
    "     '011': 0.125,\n",
    "     '100': 0.125,\n",
    "     '101': 0.125,\n",
    "     '110': 0.125,\n",
    "     '111': 0.125}\n",
    " \n",
    " \n",
    " Your `get_sample` function should return something like the following,\n",
    " \n",
    "     >>> get_sample(nbits=3,prob=p,n=4)\n",
    "     ['101', '000', '001', '100']\n",
    " \n",
    "**Hint**: Validate your inputs thoroughly. "
   ]
  },
  {
   "cell_type": "code",
   "execution_count": 218,
   "metadata": {
    "deletable": false,
    "nbgrader": {
     "checksum": "3afd3bb1f8fc72455712b8dde8c72144",
     "grade": false,
     "grade_id": "cell-e40100904168153b",
     "locked": false,
     "schema_version": 1,
     "solution": true
    }
   },
   "outputs": [],
   "source": [
    "def get_sample(nbits=3,prob=None,n=1):\n",
    "    '''\n",
    "    Generate random samples for a finite population of bitstrings\n",
    "    Args:\n",
    "        nbits,prob,n\n",
    "    Type:\n",
    "        int,dict,int\n",
    "    Return:\n",
    "        sample list\n",
    "    Type:\n",
    "        list\n",
    "    \n",
    "    '''\n",
    "    from collections import Iterable\n",
    "    import numpy as np\n",
    "    assert isinstance(nbits,int),'nbits is not a integer'\n",
    "    assert isinstance(prob,dict),'prob is not a dictionary'\n",
    "    assert isinstance(n,int),'n is not a integer'\n",
    "    assert nbits > 0,'nbits is less than zero'\n",
    "    assert len(prob) > 0,'lenth of prob is less than zero'\n",
    "    assert len(prob)<=2**nbits\n",
    "    assert n > 0,'zero is less zero'\n",
    "    sumOfProb = 0\n",
    "    for bits,probability in prob.items():\n",
    "        assert len(bits) == nbits,'bits not matched up'\n",
    "    for key in prob:\n",
    "        if len(prob) == 1:\n",
    "            assert isinstance(prob[key],int) or isinstance(prob[key],float)\n",
    "        else:\n",
    "            assert isinstance(prob[key],float)\n",
    "        sumOfProb+=prob[key] \n",
    "    assert sumOfProb == 1,'the sum of the probility is not 1'\n",
    "    \n",
    "    \n",
    "#     list1 = []\n",
    "#     list2 = []\n",
    "#     for bits,probability in prob.items():\n",
    "#         list1.append(bits)\n",
    "#     for i in range(n):\n",
    "#         list2.append(list1[i])\n",
    "#     return list2\n",
    "#     binary=[]\n",
    "#     for i in range(2**nbits):\n",
    "#         binary = bin(i)[2:].zfill(nbits) #binary\n",
    "#     prob_key=[]\n",
    "#     prob_val=[]\n",
    "#     prob_ind=[]\n",
    "    key = list(prob.keys())\n",
    "    probility = list(prob.values())\n",
    "    return (list(np.random.choice(key,n,probility)))\n",
    "\n"
   ]
  },
  {
   "cell_type": "code",
   "execution_count": 219,
   "metadata": {},
   "outputs": [
    {
     "name": "stdout",
     "output_type": "stream",
     "text": [
      "['001', '011', '111', '100']\n",
      "['00', '01', '11', '00', '10', '10', '00', '01', '00', '11', '10', '10', '01', '10', '01', '10', '01', '11', '10', '10']\n"
     ]
    }
   ],
   "source": [
    "p={'000': 0.125,\n",
    " '001': 0.125,\n",
    " '010': 0.125,\n",
    " '011': 0.125,\n",
    " '100': 0.125,\n",
    " '101': 0.125,\n",
    " '110': 0.125,\n",
    " '111': 0.125}\n",
    "print(get_sample(3,p,4))\n",
    "print(get_sample(nbits=2,prob={'00':1/4,'01':1/4,'10':1/4,'11':1/4},n=20))"
   ]
  },
  {
   "cell_type": "code",
   "execution_count": null,
   "metadata": {
    "deletable": false,
    "editable": false,
    "nbgrader": {
     "checksum": "e2d4cd62fd7e18cbcb5db5fadc9db06d",
     "grade": true,
     "grade_id": "cell-d5d814177b4b1163",
     "locked": true,
     "points": 20,
     "schema_version": 1,
     "solution": false
    }
   },
   "outputs": [],
   "source": []
  },
  {
   "cell_type": "code",
   "execution_count": null,
   "metadata": {
    "deletable": false,
    "editable": false,
    "nbgrader": {
     "checksum": "7712bc6a4d552e855ac499f75543602f",
     "grade": true,
     "grade_id": "cell-584b253a8aa4c454",
     "locked": true,
     "points": 10,
     "schema_version": 1,
     "solution": false
    }
   },
   "outputs": [],
   "source": []
  },
  {
   "cell_type": "markdown",
   "metadata": {
    "deletable": false,
    "editable": false,
    "nbgrader": {
     "checksum": "3a0c7b7b064793cf7ce757b8a9a08a30",
     "grade": false,
     "grade_id": "cell-b2114029deea7d7a",
     "locked": true,
     "schema_version": 1,
     "solution": false
    }
   },
   "source": [
    "## Map bitstrings \n",
    "\n",
    "Write a function `map_bitstring` that takes a list of bitstrings (i.e., `0101`) and maps each bitstring to `0` if the number of `0`s in the bitstring strictly exceeds the number of `1`s. Otherwise, map that bitstring to `1`. The output of your function is a dictionary of the so-described key-value pairs.\n",
    "\n",
    "Here is an example:\n",
    "\n",
    "    >>> x= ['100', '100', '110', '010', '111', '000', '110', '010', '011', '000']\n",
    "    >>> map_bitstring(x)\n",
    "    {'100': 0, '110': 1, '010': 0, '111': 1, '000': 0, '011': 1}\n"
   ]
  },
  {
   "cell_type": "code",
   "execution_count": 220,
   "metadata": {
    "deletable": false,
    "nbgrader": {
     "checksum": "10d3836707d829a6b808630bd1779750",
     "grade": false,
     "grade_id": "cell-6d0f8ee073968e08",
     "locked": false,
     "schema_version": 1,
     "solution": true
    }
   },
   "outputs": [],
   "source": [
    "def map_bitstring(instrings):\n",
    "    '''\n",
    "    Takes a list of bitstrings and maps each bitstring to 0 if the number of 0s in the bitstring strictly exceeds the number of 1s. \n",
    "    Otherwise, map that bitstring to 1. \n",
    "    Args:\n",
    "        instrings\n",
    "    Type:\n",
    "        list\n",
    "    Return:\n",
    "        newDict\n",
    "    Type:\n",
    "        dict\n",
    "    \n",
    "    '''\n",
    "    assert isinstance(instrings,list),'input is not a list'\n",
    "    for string in instrings:\n",
    "        numOfbit = len(string)\n",
    "    for string in instrings:\n",
    "        assert numOfbit == len(string),'input list is not valid'\n",
    "    for element in instrings:\n",
    "        assert isinstance(element,str),'element in input list is not a string'\n",
    "        assert len(element) > 0,'the length of the element of input list is less zero'\n",
    "        assert len(element) == len(instrings[0]),'the length of the element is not matched up'\n",
    "        for i in range(len(element)):\n",
    "            assert (element[i] == '1') or (element[i] == '0'),'the element is not binary input'\n",
    "             \n",
    "    \n",
    "    \n",
    "    newDict = dict()\n",
    "    for string in instrings:\n",
    "        numOfZeros = 0\n",
    "        numOfOnes = 0\n",
    "        for i in range(numOfbit):\n",
    "            if string[i] == '1':\n",
    "                numOfOnes = numOfOnes + 1\n",
    "            elif string[i] == '0':\n",
    "                numOfZeros = numOfZeros + 1        \n",
    "        if string not in newDict:\n",
    "            if numOfZeros > numOfOnes:\n",
    "                newDict[string] = 0\n",
    "            elif numOfZeros <= numOfOnes:\n",
    "                newDict[string] = 1\n",
    "                \n",
    "    \n",
    "    return newDict\n",
    "    "
   ]
  },
  {
   "cell_type": "code",
   "execution_count": 221,
   "metadata": {},
   "outputs": [
    {
     "data": {
      "text/plain": [
       "{'000': 0, '010': 0, '011': 1, '100': 0, '110': 1, '111': 1}"
      ]
     },
     "execution_count": 221,
     "metadata": {},
     "output_type": "execute_result"
    }
   ],
   "source": [
    "x= ['100', '100', '110', '010', '111', '000', '110', '010', '011', '000']\n",
    "map_bitstring(x)"
   ]
  },
  {
   "cell_type": "code",
   "execution_count": null,
   "metadata": {
    "deletable": false,
    "editable": false,
    "nbgrader": {
     "checksum": "46e7779edf932fcadb407a0ba14ef48e",
     "grade": true,
     "grade_id": "cell-e4f010c3a49c7f7c",
     "locked": true,
     "points": 20,
     "schema_version": 1,
     "solution": false
    }
   },
   "outputs": [],
   "source": []
  },
  {
   "cell_type": "code",
   "execution_count": null,
   "metadata": {
    "deletable": false,
    "editable": false,
    "nbgrader": {
     "checksum": "a3e4a79f34163ccad208f3d4e003345d",
     "grade": true,
     "grade_id": "cell-daa584d0ff7c9fec",
     "locked": true,
     "points": 10,
     "schema_version": 1,
     "solution": false
    }
   },
   "outputs": [],
   "source": []
  },
  {
   "cell_type": "markdown",
   "metadata": {
    "deletable": false,
    "editable": false,
    "nbgrader": {
     "checksum": "9d227c566406c0d19309881964a1aa1b",
     "grade": false,
     "grade_id": "cell-c5502ee14e0cc4e0",
     "locked": true,
     "schema_version": 1,
     "solution": false
    }
   },
   "source": [
    "## Gather by values \n",
    "\n",
    "Now that you have `get_sample` working, generate `n` samples and tally the number of times an existing key is repeated. Generate a new dictionary with bitstrings as keys and with values as lists that contain the corresponding mapped values from `map_bitstring`. Here is an example for  `n=20`,\n",
    "\n",
    "    >>> x=get_sample(nbits=2,prob={'00':1/4,'01':1/4,'10':1/4,'11':1/4},n=20)\n",
    "    >>> print(x)\n",
    "    ['10', '11', '01', '00', '10', '00', '00', '11', '10', '00', '00', '01', '01', '11', '10', '00', '11', '10', '11', '11']\n",
    "\n",
    "Write a function `gather_values` that can produce the following output from `x`:\n",
    "\n",
    "    {'10': [1, 1, 1, 1, 1],\n",
    "     '11': [1, 1, 1, 1, 1, 1],\n",
    "     '01': [1, 1, 1],\n",
    "     '00': [0, 0, 0, 0, 0, 0]}"
   ]
  },
  {
   "cell_type": "code",
   "execution_count": 222,
   "metadata": {
    "deletable": false,
    "nbgrader": {
     "checksum": "899ded29119505e033fea57f66186910",
     "grade": false,
     "grade_id": "cell-77b4c3b9d90a3767",
     "locked": false,
     "schema_version": 1,
     "solution": true
    }
   },
   "outputs": [],
   "source": [
    "def gather_values(seq):\n",
    "    '''\n",
    "    Generate a new dictionary with bitstrings as keys and with values as lists that contain the corresponding mapped values from map_bitstring\n",
    "    Args:\n",
    "        seq\n",
    "    Type:\n",
    "        list\n",
    "    Return:\n",
    "        gather_values\n",
    "    Type:\n",
    "        dict\n",
    "    '''\n",
    "    assert isinstance(seq,list),'the input seq is not a list'\n",
    "    assert len(seq)>0,'the length of input seq is less than zero'\n",
    "    for element in seq:\n",
    "        assert isinstance(element,str),'the element in seq is not a string'\n",
    "        assert len(element) > 0,'the length of element in seq is less than zero'\n",
    "        assert len(element) == len(seq[0]),'the length of string not matched up'\n",
    "        for i in range(len(element)):\n",
    "            assert (element[i] == '1') or (element[i] == '0'),'the input list is not binary'\n",
    "            \n",
    "\n",
    "    dict1 = map_bitstring(seq)\n",
    "    dict2 = dict()\n",
    "    for key1,value1 in dict1.items():\n",
    "        newList = []\n",
    "        num = 0\n",
    "        for string in seq:\n",
    "            if string == key1:\n",
    "                num = num + 1\n",
    "        if key1 not in dict2:\n",
    "            if value1 == 1:\n",
    "                for i in range(num):\n",
    "                    newList.append('1')\n",
    "                dict2[key1] = newList\n",
    "            elif value1 == 0:\n",
    "                for i in range(num):\n",
    "                    newList.append('0')\n",
    "                dict2[key1] = newList\n",
    "    return dict2\n"
   ]
  },
  {
   "cell_type": "code",
   "execution_count": 223,
   "metadata": {},
   "outputs": [
    {
     "data": {
      "text/plain": [
       "{'00': ['0', '0', '0', '0', '0', '0'],\n",
       " '01': ['1', '1', '1'],\n",
       " '10': ['1', '1', '1', '1', '1'],\n",
       " '11': ['1', '1', '1', '1', '1', '1']}"
      ]
     },
     "execution_count": 223,
     "metadata": {},
     "output_type": "execute_result"
    }
   ],
   "source": [
    "x = ['10', '11', '01', '00', '10', '00', '00', '11', '10', '00', '00', '01', '01', '11', '10', '00', '11', '10', '11', '11']\n",
    "gather_values(x)"
   ]
  },
  {
   "cell_type": "code",
   "execution_count": null,
   "metadata": {
    "deletable": false,
    "editable": false,
    "nbgrader": {
     "checksum": "1e3495cc6146a5d6ec134b667efef687",
     "grade": true,
     "grade_id": "cell-686be7c827e4d202",
     "locked": true,
     "points": 20,
     "schema_version": 1,
     "solution": false
    }
   },
   "outputs": [],
   "source": []
  },
  {
   "cell_type": "code",
   "execution_count": null,
   "metadata": {
    "deletable": false,
    "editable": false,
    "nbgrader": {
     "checksum": "22e3be6597cb3b71e899b18ead532ceb",
     "grade": true,
     "grade_id": "cell-43aab92572d7f5a3",
     "locked": true,
     "points": 10,
     "schema_version": 1,
     "solution": false
    }
   },
   "outputs": [],
   "source": []
  },
  {
   "cell_type": "markdown",
   "metadata": {
    "deletable": false,
    "editable": false,
    "nbgrader": {
     "checksum": "296b64e85c2468eff69614b0340b30fb",
     "grade": false,
     "grade_id": "cell-b2602d876901c25d",
     "locked": true,
     "schema_version": 1,
     "solution": false
    }
   },
   "source": [
    "## Threshold sample counts\n",
    "\n",
    "From `gather_values`, we can group the results of the random samples. Now, we want to threshold those values based upon their frequency and value. Given `threshold=2`, we want to keep only those bitstrings with the two highest frequency counts of the `1` value. For example, as before we have,\n",
    "\n",
    "    x=['10', '11', '01', '00', '10', '00', '00', '11', '10', '00', '00', '01', '01', '11', '10', '00', '11', '10', '11', '11']\n",
    "    \n",
    "according to our last result, we had \n",
    "\n",
    "    {'10': [1, 1, 1, 1, 1],\n",
    "     '11': [1, 1, 1, 1, 1, 1],\n",
    "     '01': [1, 1, 1],\n",
    "     '00': [0, 0, 0, 0, 0, 0]}\n",
    "\n",
    "But because the `threshold=2`, we only want to keep the bitstrings with the two most frequent `1`s and set all of the rest to `0`. In this case, this is `10` and `11` with the following output:\n",
    "\n",
    "    {'10': 1,\n",
    "     '11': 1,\n",
    "     '01': 0,\n",
    "     '00': 0}\n",
    "    \n",
    "Note that `01` corresponding value was set to `0` because it did not have the top two most frequent values of `1`. If there is a tie, then use the smallest value the tied bitstrings to pick the winner. Here is a more detailed example:\n",
    "\n",
    "    x= ['1111', '0110', '1001', '0011', '0111', '0100', '0111', '1100', '0011', '0010', '0010', '1010', '1010', '1100', '0110', '0101', '0110', '1111', '1001', '0110', '0010', '1101', '0101', '0010', '0100', '0010', '0000', '0000', '0011', '0110', '0101', '1010', '1011', '1101', '1100', '0111', '1110', '0100', '0110', '1101', '0001', '1110', '0010', '0001', '1010', '1010', '0011', '1000', '0010', '0000', '1010', '1101', '1111', '1000', '1000', '0010', '1010', '0101', '0101', '1101', '0110', '1001', '1100', '1100', '1000', '1010', '0011', '0101', '0101', '0011', '0001', '1010', '0011', '0011', '1101', '1010', '0101', '0011', '1011', '0101', '0000', '1111', '1001', '0101', '1100', '0011', '1111', '1101', '0001', '1111', '1110', '1111', '0001', '0010', '0110', '0100', '0101', '1100', '1110', '1001']\n",
    "\n",
    "With corresponding output from `threshold_values`,\n",
    "\n",
    "    >>> threshold_values(seq,3)\n",
    "    {'0000': 0, '0001': 0, '0010': 0, '0011': 1, '0100': 0, '0101': 1, '0110': 0, '0111': 0, '1000': 0, '1001': 0, '1010': 1, '1011': 0, '1100': 0, '1101': 0, '1110': 0, '1111': 0}\n"
   ]
  },
  {
   "cell_type": "code",
   "execution_count": 242,
   "metadata": {
    "deletable": false,
    "nbgrader": {
     "checksum": "163f867649bbead5d7a0ae72fa8c011f",
     "grade": false,
     "grade_id": "cell-8d7301da17c97f20",
     "locked": false,
     "schema_version": 1,
     "solution": true
    }
   },
   "outputs": [],
   "source": [
    "def threshold_values(seq,threshold=1):\n",
    "    '''\n",
    "    Threshold those values based upon their frequency and value.\n",
    "    Args:\n",
    "        seq,threshold\n",
    "    Type:\n",
    "        list,int\n",
    "    Return:\n",
    "        New dict after threshold chosen\n",
    "    Type:\n",
    "        dict\n",
    "    \n",
    "    '''\n",
    "    assert isinstance(seq,list),'the input seq is not a list'\n",
    "    assert len(seq)>0,'the length of input seq is less than zero'\n",
    "    for element in seq:\n",
    "        assert isinstance(element,str),'the element in seq is not a string'\n",
    "        assert len(element) > 0,'the length of element in seq is less than zero'\n",
    "        assert len(element) == len(seq[0]),'the length of string not matched up'\n",
    "        for i in range(len(element)):\n",
    "            assert (element[i] == '1') or (element[i] == '0'),'the input list is not binary'\n",
    "    assert isinstance(threshold,int),'the threshold is not a integer'\n",
    "    assert threshold > 0,'the thershold is less zero'\n",
    "    assert threshold <= 2**len(seq[1])\n",
    "    \n",
    "    \n",
    "    \n",
    "    sorted_seq = sorted(seq)\n",
    "    no_de_to = []\n",
    "    for element in sorted_seq:\n",
    "        if element not in no_de_to:\n",
    "            no_de_to.append(element)\n",
    "    no_de=[]\n",
    "    no_de_0=[]\n",
    "    dict_unsort=dict()\n",
    "    dict_unsort = gather_values(seq)\n",
    "    sorted_val=sorted(dict_unsort,key=lambda x:dict_unsort[x],reverse=True)\n",
    "    sorted_cou=[]\n",
    "    i=0\n",
    "    for key in sorted_val:\n",
    "        if i < threshold:\n",
    "            sorted_cou.append(1)\n",
    "        else:\n",
    "            sorted_cou.append(0)\n",
    "        i+=1\n",
    "    sorted_cou_0 = []\n",
    "    for element in no_de_0:\n",
    "        sorted_cou_0.append(0)\n",
    "    sorted_val.extend(no_de_0)\n",
    "    sorted_cou.extend(sorted_cou_0)\n",
    "    list2 = dict(zip(sorted_val,sorted_cou))\n",
    "    list3 = []\n",
    "    for element in no_de_to:\n",
    "        list3.append(list2[element])\n",
    "    finalDict = dict(zip(no_de_to,list3))\n",
    "    return finalDict\n",
    "\n",
    "\n"
   ]
  },
  {
   "cell_type": "code",
   "execution_count": 243,
   "metadata": {},
   "outputs": [
    {
     "data": {
      "text/plain": [
       "{'0000': 0,\n",
       " '0001': 0,\n",
       " '0010': 0,\n",
       " '0011': 1,\n",
       " '0100': 0,\n",
       " '0101': 1,\n",
       " '0110': 0,\n",
       " '0111': 0,\n",
       " '1000': 0,\n",
       " '1001': 0,\n",
       " '1010': 1,\n",
       " '1011': 0,\n",
       " '1100': 0,\n",
       " '1101': 0,\n",
       " '1110': 0,\n",
       " '1111': 0}"
      ]
     },
     "execution_count": 243,
     "metadata": {},
     "output_type": "execute_result"
    }
   ],
   "source": [
    "x = ['1111', '0110', '1001', '0011', '0111', '0100', '0111', '1100', '0011', '0010', '0010', '1010', '1010', '1100', '0110', '0101', '0110', '1111', '1001', '0110', '0010', '1101', '0101', '0010', '0100', '0010', '0000', '0000', '0011', '0110', '0101', '1010', '1011', '1101', '1100', '0111', '1110', '0100', '0110', '1101', '0001', '1110', '0010', '0001', '1010', '1010', '0011', '1000', '0010', '0000', '1010', '1101', '1111', '1000', '1000', '0010', '1010', '0101', '0101', '1101', '0110', '1001', '1100', '1100', '1000', '1010', '0011', '0101', '0101', '0011', '0001', '1010', '0011', '0011', '1101', '1010', '0101', '0011', '1011', '0101', '0000', '1111', '1001', '0101', '1100', '0011', '1111', '1101', '0001', '1111', '1110', '1111', '0001', '0010', '0110', '0100', '0101', '1100', '1110', '1001']\n",
    "threshold_values(x,3)"
   ]
  },
  {
   "cell_type": "code",
   "execution_count": null,
   "metadata": {
    "deletable": false,
    "editable": false,
    "nbgrader": {
     "checksum": "81d5eee3066f8fb4c33c3c67de94ef65",
     "grade": true,
     "grade_id": "cell-089b349800af4b1c",
     "locked": true,
     "points": 20,
     "schema_version": 1,
     "solution": false
    }
   },
   "outputs": [],
   "source": []
  },
  {
   "cell_type": "code",
   "execution_count": null,
   "metadata": {
    "deletable": false,
    "editable": false,
    "nbgrader": {
     "checksum": "6cbd5db4e22f78846ef2482e17e174b2",
     "grade": true,
     "grade_id": "cell-0b0293217e93e677",
     "locked": true,
     "points": 10,
     "schema_version": 1,
     "solution": false
    }
   },
   "outputs": [],
   "source": []
  },
  {
   "cell_type": "code",
   "execution_count": null,
   "metadata": {},
   "outputs": [],
   "source": []
  }
 ],
 "metadata": {
  "kernelspec": {
   "display_name": "Python 3",
   "language": "python",
   "name": "python3"
  },
  "language_info": {
   "codemirror_mode": {
    "name": "ipython",
    "version": 3
   },
   "file_extension": ".py",
   "mimetype": "text/x-python",
   "name": "python",
   "nbconvert_exporter": "python",
   "pygments_lexer": "ipython3",
   "version": "3.6.7"
  }
 },
 "nbformat": 4,
 "nbformat_minor": 2
}
